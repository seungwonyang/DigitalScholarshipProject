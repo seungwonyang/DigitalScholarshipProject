{
 "cells": [
  {
   "cell_type": "code",
   "execution_count": 1,
   "metadata": {},
   "outputs": [],
   "source": [
    "from bllipparser import RerankingParser"
   ]
  },
  {
   "cell_type": "markdown",
   "metadata": {},
   "source": [
    "GENIA+PubMed: Self-trained model on GENIA treebank and approx. 200k sentences from PubMed"
   ]
  },
  {
   "cell_type": "code",
   "execution_count": 2,
   "metadata": {},
   "outputs": [
    {
     "name": "stdout",
     "output_type": "stream",
     "text": [
      "Model directory: /home/user/.local/share/bllipparser/GENIA+PubMed\n",
      "Model directory already exists, not reinstalling\n"
     ]
    }
   ],
   "source": [
    "rrp = RerankingParser.fetch_and_load('GENIA+PubMed', verbose=True)"
   ]
  },
  {
   "cell_type": "code",
   "execution_count": 3,
   "metadata": {},
   "outputs": [
    {
     "data": {
      "text/plain": [
       "\"(S1 (S (S (NP (PRP It)) (VP (NNS 's) (SBAR (IN that) (S (ADJP (JJ easy)))))) (. .)))\""
      ]
     },
     "execution_count": 3,
     "metadata": {},
     "output_type": "execute_result"
    }
   ],
   "source": [
    "rrp.simple_parse(\"It's that easy.\")"
   ]
  },
  {
   "cell_type": "code",
   "execution_count": 4,
   "metadata": {},
   "outputs": [],
   "source": [
    "nbest_list = rrp.parse('This is a sentence.')"
   ]
  },
  {
   "cell_type": "code",
   "execution_count": 5,
   "metadata": {},
   "outputs": [
    {
     "name": "stdout",
     "output_type": "stream",
     "text": [
      "ScoredParse('(S1 (S (S (NP (DT This)) (VP (VBZ is) (NP (DT a) (NN sentence)))) (. .)))', parser_score=-44.27771134553368, reranker_score=-3.870036866281004)\n"
     ]
    }
   ],
   "source": [
    "print(repr(nbest_list[0]))"
   ]
  },
  {
   "cell_type": "code",
   "execution_count": 6,
   "metadata": {},
   "outputs": [
    {
     "name": "stdout",
     "output_type": "stream",
     "text": [
      "(S1 (S (S (NP (DT This)) (VP (VBZ is) (NP (DT a) (NN sentence)))) (. .)))\n"
     ]
    }
   ],
   "source": [
    "print(nbest_list[0].ptb_parse)"
   ]
  },
  {
   "cell_type": "code",
   "execution_count": 7,
   "metadata": {},
   "outputs": [
    {
     "name": "stdout",
     "output_type": "stream",
     "text": [
      "-44.27771134553368\n"
     ]
    }
   ],
   "source": [
    "print(nbest_list[0].parser_score)"
   ]
  },
  {
   "cell_type": "code",
   "execution_count": 8,
   "metadata": {},
   "outputs": [
    {
     "name": "stdout",
     "output_type": "stream",
     "text": [
      "-3.870036866281004\n"
     ]
    }
   ],
   "source": [
    "print(nbest_list[0].reranker_score)"
   ]
  },
  {
   "cell_type": "code",
   "execution_count": 9,
   "metadata": {},
   "outputs": [
    {
     "name": "stdout",
     "output_type": "stream",
     "text": [
      "42\n"
     ]
    }
   ],
   "source": [
    "print(len(nbest_list))"
   ]
  },
  {
   "cell_type": "code",
   "execution_count": 10,
   "metadata": {},
   "outputs": [
    {
     "name": "stdout",
     "output_type": "stream",
     "text": [
      "(S1 (S (S (NP (DT This)) (VP (VBZ is) (NP (DT a) (NN sentence)))) (. .)))\n"
     ]
    }
   ],
   "source": [
    "print(nbest_list.fuse())"
   ]
  },
  {
   "cell_type": "code",
   "execution_count": null,
   "metadata": {},
   "outputs": [],
   "source": []
  }
 ],
 "metadata": {
  "kernelspec": {
   "display_name": "Python 3",
   "language": "python",
   "name": "python3"
  },
  "language_info": {
   "codemirror_mode": {
    "name": "ipython",
    "version": 3
   },
   "file_extension": ".py",
   "mimetype": "text/x-python",
   "name": "python",
   "nbconvert_exporter": "python",
   "pygments_lexer": "ipython3",
   "version": "3.6.8"
  }
 },
 "nbformat": 4,
 "nbformat_minor": 2
}
