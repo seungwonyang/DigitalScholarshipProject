{
 "cells": [
  {
   "cell_type": "code",
   "execution_count": 1,
   "metadata": {},
   "outputs": [],
   "source": [
    "from stanfordcorenlp import StanfordCoreNLP"
   ]
  },
  {
   "cell_type": "markdown",
   "metadata": {},
   "source": [
    "Note: you need to download StanfordCoreNLP and save it on your disk."
   ]
  },
  {
   "cell_type": "code",
   "execution_count": 2,
   "metadata": {},
   "outputs": [],
   "source": [
    "STANFORD_CORE_LOCAL_PATH = r'C:\\Users\\febrah1\\AppData\\Local\\Programs\\Python\\Python37\\Lib\\site-packages\\stanfordcorenlp\\stanford-corenlp-full-2018-10-05'\n",
    "class Preprocessing:\n",
    "    def __init__(self, dataPath):\n",
    "        self.path = dataPath\n",
    "        self.stanfordNlp = StanfordCoreNLP(STANFORD_CORE_LOCAL_PATH)\n",
    "        with open(self.path) as file:\n",
    "            self.sentences = list(file)\n",
    "\n",
    "\n",
    "    def GetTokens(self, startIndex = 0, endIndex = 0):\n",
    "        if endIndex == 0:\n",
    "            endIndex = len(self.sentences)\n",
    "        tokenize_list = []\n",
    "        for index in range(startIndex, endIndex):\n",
    "            tokenize_list.append(self.stanfordNlp.word_tokenize(self.sentences[index]))\n",
    "        return tokenize_list\n",
    "\n",
    "    def GetPosTags(self, startIndex = 0, endIndex = 0):\n",
    "        if endIndex == 0:\n",
    "            endIndex = len(self.sentences)\n",
    "        pos_list = []\n",
    "        for index in range(startIndex, endIndex):\n",
    "            pos_list.append(self.stanfordNlp.pos_tag(self.sentences[index]))\n",
    "        return pos_list\n",
    "\n",
    "    def GetNER(self, startIndex = 0, endIndex = 0):\n",
    "        if endIndex == 0:\n",
    "            endIndex = len(self.sentences)\n",
    "        ner_list = []\n",
    "        for index in range(startIndex, endIndex):\n",
    "            ner_list.append(self.stanfordNlp.ner(self.sentences[index]))\n",
    "        return ner_list\n",
    "\n",
    "    def GetParses(self, startIndex = 0, endIndex = 0):\n",
    "        if endIndex == 0:\n",
    "            endIndex = len(self.sentences)\n",
    "        parse_list = []\n",
    "        for index in range(startIndex, endIndex):\n",
    "            parse_list.append(self.stanfordNlp.parse(self.sentences[index]))\n",
    "        return parse_list\n",
    "\n",
    "    def GetDependencyParse(self, startIndex = 0, endIndex = 0):\n",
    "        if endIndex == 0:\n",
    "            endIndex = len(self.sentences)\n",
    "        dependency_list = []\n",
    "        for index in range(startIndex, endIndex):\n",
    "            dependency_list.append(self.stanfordNlp.dependency_parse(self.sentences[index]))\n",
    "        return dependency_list"
   ]
  },
  {
   "cell_type": "code",
   "execution_count": 3,
   "metadata": {},
   "outputs": [],
   "source": [
    "tmVarObject = Preprocessing('tmVarCorpus.txt')"
   ]
  },
  {
   "cell_type": "code",
   "execution_count": 6,
   "metadata": {},
   "outputs": [
    {
     "name": "stdout",
     "output_type": "stream",
     "text": [
      "[['A', 'novel', 'missense', 'mutation', 'Asp506Gly', 'in', 'Exon', '13', 'of', 'the', 'F11', 'gene', 'in', 'an', 'asymptomatic', 'Korean', 'woman', 'with', 'mild', 'factor', 'XI', 'deficiency', '.'], ['Factor', 'XI', '(', 'FXI', ')', 'deficiency', 'is', 'a', 'rare', 'autosomal', 'recessive', 'coagulation', 'disorder', 'most', 'commonly', 'found', 'in', 'Ashkenazi', 'and', 'Iraqi', 'Jews', ',', 'but', 'it', 'is', 'also', 'found', 'in', 'other', 'ethnic', 'groups', '.', 'It', 'is', 'a', 'trauma', 'or', 'surgery-related', 'bleeding', 'disorder', ',', 'but', 'spontaneous', 'bleeding', 'is', 'rarely', 'seen', '.', 'The', 'clinical', 'manifestation', 'of', 'bleeding', 'in', 'FXI', 'deficiency', 'cases', 'is', 'variable', 'and', 'seems', 'to', 'poorly', 'correlate', 'with', 'plasma', 'FXI', 'levels', '.', 'The', 'molecular', 'pathology', 'of', 'FXI', 'deficiency', 'is', 'mutation', 'in', 'the', 'F11', 'gene', 'on', 'the', 'chromosome', 'band', '4q35', '.', 'We', 'report', 'a', 'novel', 'mutation', 'of', 'the', 'F11', 'gene', 'in', 'an', '18-year-old', 'asymptomatic', 'Korean', 'woman', 'with', 'mild', 'FXI', 'deficiency', '.', 'Pre-operative', 'laboratory', 'screen', 'tests', 'for', 'lipoma', 'on', 'her', 'back', 'revealed', 'slightly', 'prolonged', 'activated', 'partial', 'thromboplastin', 'time', '(', '45.2', 'sec', ';', 'reference', 'range', ',', '23.2-39.4', 'sec', ')', '.', 'Her', 'FXI', 'activity', '(', '35', '%', ')', 'was', 'slightly', 'lower', 'than', 'the', 'normal', 'FXI', 'activity', '(', 'reference', 'range', ',', '50-150', '%', ')', '.', 'Direct', 'sequence', 'analysis', 'of', 'the', 'F11', 'gene', 'revealed', 'a', 'heterozygous', 'A', 'to', 'G', 'substitution', 'in', 'nucleotide', '1517', '(', 'c.', '1517A', '>', 'G', ')', 'of', 'exon', '13', ',', 'resulting', 'in', 'the', 'substitution', 'of', 'aspartic', 'acid', 'with', 'glycine', 'in', 'codon', '506', '(', 'p.Asp506Gly', ')', '.', 'To', 'the', 'best', 'of', 'our', 'knowledge', ',', 'the', 'Asp506Gly', 'is', 'a', 'novel', 'missense', 'mutation', ',', 'and', 'this', 'is', 'the', 'first', 'genetically', 'confirmed', 'case', 'of', 'mild', 'FXI', 'deficiency', 'in', 'Korea', '.']]\n"
     ]
    }
   ],
   "source": [
    "print(tmVarObject.GetTokens(0,2))"
   ]
  },
  {
   "cell_type": "code",
   "execution_count": 5,
   "metadata": {},
   "outputs": [
    {
     "name": "stdout",
     "output_type": "stream",
     "text": [
      "[[('A', 'DT'), ('novel', 'JJ'), ('missense', 'NN'), ('mutation', 'NN'), ('Asp506Gly', 'NN'), ('in', 'IN'), ('Exon', 'NNP'), ('13', 'CD'), ('of', 'IN'), ('the', 'DT'), ('F11', 'NN'), ('gene', 'NN'), ('in', 'IN'), ('an', 'DT'), ('asymptomatic', 'JJ'), ('Korean', 'JJ'), ('woman', 'NN'), ('with', 'IN'), ('mild', 'JJ'), ('factor', 'NN'), ('XI', 'NN'), ('deficiency', 'NN'), ('.', '.')], [('Factor', 'NN'), ('XI', 'NN'), ('(', '-LRB-'), ('FXI', 'NN'), (')', '-RRB-'), ('deficiency', 'NN'), ('is', 'VBZ'), ('a', 'DT'), ('rare', 'JJ'), ('autosomal', 'JJ'), ('recessive', 'JJ'), ('coagulation', 'NN'), ('disorder', 'NN'), ('most', 'RBS'), ('commonly', 'RB'), ('found', 'VBN'), ('in', 'IN'), ('Ashkenazi', 'NNP'), ('and', 'CC'), ('Iraqi', 'JJ'), ('Jews', 'NNPS'), (',', ','), ('but', 'CC'), ('it', 'PRP'), ('is', 'VBZ'), ('also', 'RB'), ('found', 'VBN'), ('in', 'IN'), ('other', 'JJ'), ('ethnic', 'JJ'), ('groups', 'NNS'), ('.', '.'), ('It', 'PRP'), ('is', 'VBZ'), ('a', 'DT'), ('trauma', 'NN'), ('or', 'CC'), ('surgery-related', 'JJ'), ('bleeding', 'JJ'), ('disorder', 'NN'), (',', ','), ('but', 'CC'), ('spontaneous', 'JJ'), ('bleeding', 'NN'), ('is', 'VBZ'), ('rarely', 'RB'), ('seen', 'VBN'), ('.', '.'), ('The', 'DT'), ('clinical', 'JJ'), ('manifestation', 'NN'), ('of', 'IN'), ('bleeding', 'NN'), ('in', 'IN'), ('FXI', 'NNP'), ('deficiency', 'NN'), ('cases', 'NNS'), ('is', 'VBZ'), ('variable', 'JJ'), ('and', 'CC'), ('seems', 'VBZ'), ('to', 'TO'), ('poorly', 'RB'), ('correlate', 'VB'), ('with', 'IN'), ('plasma', 'NN'), ('FXI', 'NN'), ('levels', 'NNS'), ('.', '.'), ('The', 'DT'), ('molecular', 'JJ'), ('pathology', 'NN'), ('of', 'IN'), ('FXI', 'NNP'), ('deficiency', 'NN'), ('is', 'VBZ'), ('mutation', 'NN'), ('in', 'IN'), ('the', 'DT'), ('F11', 'NN'), ('gene', 'NN'), ('on', 'IN'), ('the', 'DT'), ('chromosome', 'NN'), ('band', 'NN'), ('4q35', 'NN'), ('.', '.'), ('We', 'PRP'), ('report', 'VBP'), ('a', 'DT'), ('novel', 'JJ'), ('mutation', 'NN'), ('of', 'IN'), ('the', 'DT'), ('F11', 'NN'), ('gene', 'NN'), ('in', 'IN'), ('an', 'DT'), ('18-year-old', 'JJ'), ('asymptomatic', 'JJ'), ('Korean', 'JJ'), ('woman', 'NN'), ('with', 'IN'), ('mild', 'JJ'), ('FXI', 'NN'), ('deficiency', 'NN'), ('.', '.'), ('Pre-operative', 'JJ'), ('laboratory', 'NN'), ('screen', 'NN'), ('tests', 'NNS'), ('for', 'IN'), ('lipoma', 'NN'), ('on', 'IN'), ('her', 'PRP$'), ('back', 'NN'), ('revealed', 'VBD'), ('slightly', 'RB'), ('prolonged', 'JJ'), ('activated', 'VBN'), ('partial', 'JJ'), ('thromboplastin', 'NN'), ('time', 'NN'), ('(', '-LRB-'), ('45.2', 'CD'), ('sec', 'NN'), (';', ':'), ('reference', 'NN'), ('range', 'NN'), (',', ','), ('23.2-39.4', 'CD'), ('sec', 'NN'), (')', '-RRB-'), ('.', '.'), ('Her', 'PRP$'), ('FXI', 'NN'), ('activity', 'NN'), ('(', '-LRB-'), ('35', 'CD'), ('%', 'NN'), (')', '-RRB-'), ('was', 'VBD'), ('slightly', 'RB'), ('lower', 'JJR'), ('than', 'IN'), ('the', 'DT'), ('normal', 'JJ'), ('FXI', 'NN'), ('activity', 'NN'), ('(', '-LRB-'), ('reference', 'NN'), ('range', 'NN'), (',', ','), ('50-150', 'CD'), ('%', 'NN'), (')', '-RRB-'), ('.', '.'), ('Direct', 'JJ'), ('sequence', 'NN'), ('analysis', 'NN'), ('of', 'IN'), ('the', 'DT'), ('F11', 'NN'), ('gene', 'NN'), ('revealed', 'VBD'), ('a', 'DT'), ('heterozygous', 'JJ'), ('A', 'NN'), ('to', 'TO'), ('G', 'NN'), ('substitution', 'NN'), ('in', 'IN'), ('nucleotide', 'NN'), ('1517', 'CD'), ('(', '-LRB-'), ('c.', 'NN'), ('1517A', 'NN'), ('>', 'JJR'), ('G', 'NN'), (')', '-RRB-'), ('of', 'IN'), ('exon', 'NN'), ('13', 'CD'), (',', ','), ('resulting', 'VBG'), ('in', 'IN'), ('the', 'DT'), ('substitution', 'NN'), ('of', 'IN'), ('aspartic', 'JJ'), ('acid', 'NN'), ('with', 'IN'), ('glycine', 'NN'), ('in', 'IN'), ('codon', 'NN'), ('506', 'CD'), ('(', '-LRB-'), ('p.Asp506Gly', 'NN'), (')', '-RRB-'), ('.', '.'), ('To', 'TO'), ('the', 'DT'), ('best', 'JJS'), ('of', 'IN'), ('our', 'PRP$'), ('knowledge', 'NN'), (',', ','), ('the', 'DT'), ('Asp506Gly', 'NNP'), ('is', 'VBZ'), ('a', 'DT'), ('novel', 'JJ'), ('missense', 'NN'), ('mutation', 'NN'), (',', ','), ('and', 'CC'), ('this', 'DT'), ('is', 'VBZ'), ('the', 'DT'), ('first', 'JJ'), ('genetically', 'RB'), ('confirmed', 'VBN'), ('case', 'NN'), ('of', 'IN'), ('mild', 'JJ'), ('FXI', 'NN'), ('deficiency', 'NN'), ('in', 'IN'), ('Korea', 'NNP'), ('.', '.')]]\n"
     ]
    }
   ],
   "source": [
    "print(tmVarObject.GetPosTags(0,2))"
   ]
  },
  {
   "cell_type": "code",
   "execution_count": 7,
   "metadata": {},
   "outputs": [
    {
     "name": "stdout",
     "output_type": "stream",
     "text": [
      "[[('A', 'O'), ('novel', 'O'), ('missense', 'O'), ('mutation', 'O'), ('Asp506Gly', 'O'), ('in', 'O'), ('Exon', 'O'), ('13', 'NUMBER'), ('of', 'O'), ('the', 'O'), ('F11', 'O'), ('gene', 'O'), ('in', 'O'), ('an', 'O'), ('asymptomatic', 'O'), ('Korean', 'NATIONALITY'), ('woman', 'O'), ('with', 'O'), ('mild', 'O'), ('factor', 'O'), ('XI', 'O'), ('deficiency', 'O'), ('.', 'O')], [('Factor', 'O'), ('XI', 'O'), ('(', 'O'), ('FXI', 'ORGANIZATION'), (')', 'O'), ('deficiency', 'O'), ('is', 'O'), ('a', 'O'), ('rare', 'O'), ('autosomal', 'O'), ('recessive', 'O'), ('coagulation', 'O'), ('disorder', 'O'), ('most', 'O'), ('commonly', 'O'), ('found', 'O'), ('in', 'O'), ('Ashkenazi', 'MISC'), ('and', 'O'), ('Iraqi', 'NATIONALITY'), ('Jews', 'MISC'), (',', 'O'), ('but', 'O'), ('it', 'O'), ('is', 'O'), ('also', 'O'), ('found', 'O'), ('in', 'O'), ('other', 'O'), ('ethnic', 'O'), ('groups', 'O'), ('.', 'O'), ('It', 'O'), ('is', 'O'), ('a', 'O'), ('trauma', 'O'), ('or', 'O'), ('surgery-related', 'O'), ('bleeding', 'O'), ('disorder', 'O'), (',', 'O'), ('but', 'O'), ('spontaneous', 'O'), ('bleeding', 'O'), ('is', 'O'), ('rarely', 'O'), ('seen', 'O'), ('.', 'O'), ('The', 'O'), ('clinical', 'O'), ('manifestation', 'O'), ('of', 'O'), ('bleeding', 'O'), ('in', 'O'), ('FXI', 'ORGANIZATION'), ('deficiency', 'O'), ('cases', 'O'), ('is', 'O'), ('variable', 'O'), ('and', 'O'), ('seems', 'O'), ('to', 'O'), ('poorly', 'O'), ('correlate', 'O'), ('with', 'O'), ('plasma', 'O'), ('FXI', 'ORGANIZATION'), ('levels', 'O'), ('.', 'O'), ('The', 'O'), ('molecular', 'O'), ('pathology', 'O'), ('of', 'O'), ('FXI', 'ORGANIZATION'), ('deficiency', 'O'), ('is', 'O'), ('mutation', 'O'), ('in', 'O'), ('the', 'O'), ('F11', 'O'), ('gene', 'O'), ('on', 'O'), ('the', 'O'), ('chromosome', 'O'), ('band', 'O'), ('4q35', 'O'), ('.', 'O'), ('We', 'O'), ('report', 'O'), ('a', 'O'), ('novel', 'O'), ('mutation', 'O'), ('of', 'O'), ('the', 'O'), ('F11', 'O'), ('gene', 'O'), ('in', 'O'), ('an', 'O'), ('18-year-old', 'DURATION'), ('asymptomatic', 'O'), ('Korean', 'NATIONALITY'), ('woman', 'O'), ('with', 'O'), ('mild', 'O'), ('FXI', 'ORGANIZATION'), ('deficiency', 'O'), ('.', 'O'), ('Pre-operative', 'O'), ('laboratory', 'O'), ('screen', 'O'), ('tests', 'O'), ('for', 'O'), ('lipoma', 'O'), ('on', 'O'), ('her', 'O'), ('back', 'O'), ('revealed', 'O'), ('slightly', 'O'), ('prolonged', 'O'), ('activated', 'O'), ('partial', 'O'), ('thromboplastin', 'O'), ('time', 'O'), ('(', 'O'), ('45.2', 'DURATION'), ('sec', 'DURATION'), (';', 'O'), ('reference', 'O'), ('range', 'O'), (',', 'O'), ('23.2-39.4', 'NUMBER'), ('sec', 'DURATION'), (')', 'O'), ('.', 'O'), ('Her', 'O'), ('FXI', 'O'), ('activity', 'O'), ('(', 'O'), ('35', 'PERCENT'), ('%', 'PERCENT'), (')', 'O'), ('was', 'O'), ('slightly', 'O'), ('lower', 'O'), ('than', 'O'), ('the', 'O'), ('normal', 'O'), ('FXI', 'O'), ('activity', 'O'), ('(', 'O'), ('reference', 'O'), ('range', 'O'), (',', 'O'), ('50-150', 'PERCENT'), ('%', 'PERCENT'), (')', 'O'), ('.', 'O'), ('Direct', 'O'), ('sequence', 'O'), ('analysis', 'O'), ('of', 'O'), ('the', 'O'), ('F11', 'O'), ('gene', 'O'), ('revealed', 'O'), ('a', 'O'), ('heterozygous', 'O'), ('A', 'O'), ('to', 'O'), ('G', 'O'), ('substitution', 'O'), ('in', 'O'), ('nucleotide', 'O'), ('1517', 'DATE'), ('(', 'O'), ('c.', 'O'), ('1517A', 'O'), ('>', 'O'), ('G', 'O'), (')', 'O'), ('of', 'O'), ('exon', 'O'), ('13', 'NUMBER'), (',', 'O'), ('resulting', 'O'), ('in', 'O'), ('the', 'O'), ('substitution', 'O'), ('of', 'O'), ('aspartic', 'O'), ('acid', 'O'), ('with', 'O'), ('glycine', 'O'), ('in', 'O'), ('codon', 'O'), ('506', 'NUMBER'), ('(', 'O'), ('p.Asp506Gly', 'O'), (')', 'O'), ('.', 'O'), ('To', 'O'), ('the', 'O'), ('best', 'O'), ('of', 'O'), ('our', 'O'), ('knowledge', 'O'), (',', 'O'), ('the', 'O'), ('Asp506Gly', 'O'), ('is', 'O'), ('a', 'O'), ('novel', 'O'), ('missense', 'O'), ('mutation', 'O'), (',', 'O'), ('and', 'O'), ('this', 'O'), ('is', 'O'), ('the', 'O'), ('first', 'ORDINAL'), ('genetically', 'O'), ('confirmed', 'O'), ('case', 'O'), ('of', 'O'), ('mild', 'O'), ('FXI', 'O'), ('deficiency', 'O'), ('in', 'O'), ('Korea', 'COUNTRY'), ('.', 'O')]]\n"
     ]
    }
   ],
   "source": [
    "print(tmVarObject.GetNER(0,2))"
   ]
  },
  {
   "cell_type": "code",
   "execution_count": 8,
   "metadata": {},
   "outputs": [
    {
     "name": "stdout",
     "output_type": "stream",
     "text": [
      "[[('ROOT', 0, 5), ('det', 5, 1), ('amod', 5, 2), ('compound', 5, 3), ('compound', 5, 4), ('case', 7, 6), ('nmod', 5, 7), ('nummod', 7, 8), ('case', 12, 9), ('det', 12, 10), ('compound', 12, 11), ('nmod', 7, 12), ('case', 17, 13), ('det', 17, 14), ('amod', 17, 15), ('amod', 17, 16), ('nmod', 5, 17), ('case', 22, 18), ('amod', 22, 19), ('compound', 22, 20), ('compound', 22, 21), ('nmod', 17, 22), ('punct', 5, 23)], [('ROOT', 0, 13), ('compound', 2, 1), ('compound', 6, 2), ('punct', 4, 3), ('appos', 2, 4), ('punct', 4, 5), ('nsubj', 13, 6), ('cop', 13, 7), ('det', 13, 8), ('amod', 13, 9), ('amod', 13, 10), ('amod', 13, 11), ('compound', 13, 12), ('advmod', 15, 14), ('advmod', 16, 15), ('acl', 13, 16), ('case', 18, 17), ('nmod', 16, 18), ('cc', 18, 19), ('amod', 21, 20), ('conj', 18, 21), ('punct', 13, 22), ('cc', 13, 23), ('nsubjpass', 27, 24), ('auxpass', 27, 25), ('advmod', 27, 26), ('conj', 13, 27), ('case', 31, 28), ('amod', 31, 29), ('amod', 31, 30), ('nmod', 27, 31), ('punct', 13, 32), ('ROOT', 0, 4), ('nsubj', 4, 1), ('cop', 4, 2), ('det', 4, 3), ('cc', 4, 5), ('amod', 8, 6), ('amod', 8, 7), ('conj', 4, 8), ('punct', 4, 9), ('cc', 4, 10), ('amod', 12, 11), ('nsubjpass', 15, 12), ('auxpass', 15, 13), ('advmod', 15, 14), ('conj', 4, 15), ('punct', 4, 16), ('ROOT', 0, 11), ('det', 3, 1), ('amod', 3, 2), ('nsubj', 11, 3), ('case', 5, 4), ('nmod', 3, 5), ('case', 9, 6), ('compound', 9, 7), ('compound', 9, 8), ('nmod', 3, 9), ('cop', 11, 10), ('cc', 11, 12), ('conj', 11, 13), ('mark', 16, 14), ('advmod', 16, 15), ('xcomp', 13, 16), ('case', 20, 17), ('compound', 20, 18), ('compound', 20, 19), ('nmod', 16, 20), ('punct', 11, 21), ('ROOT', 0, 8), ('det', 3, 1), ('amod', 3, 2), ('nsubj', 8, 3), ('case', 6, 4), ('compound', 6, 5), ('nmod', 3, 6), ('cop', 8, 7), ('case', 12, 9), ('det', 12, 10), ('compound', 12, 11), ('nmod', 8, 12), ('case', 17, 13), ('det', 17, 14), ('compound', 17, 15), ('compound', 17, 16), ('nmod', 12, 17), ('punct', 8, 18), ('ROOT', 0, 2), ('nsubj', 2, 1), ('det', 5, 3), ('amod', 5, 4), ('dobj', 2, 5), ('case', 9, 6), ('det', 9, 7), ('compound', 9, 8), ('nmod', 5, 9), ('case', 15, 10), ('det', 15, 11), ('amod', 15, 12), ('amod', 15, 13), ('amod', 15, 14), ('nmod', 5, 15), ('case', 19, 16), ('amod', 19, 17), ('compound', 19, 18), ('nmod', 15, 19), ('punct', 2, 20), ('ROOT', 0, 10), ('amod', 4, 1), ('compound', 4, 2), ('compound', 4, 3), ('nsubj', 10, 4), ('case', 6, 5), ('nmod', 4, 6), ('case', 9, 7), ('nmod:poss', 9, 8), ('nmod', 6, 9), ('advmod', 12, 11), ('amod', 16, 12), ('amod', 16, 13), ('amod', 16, 14), ('compound', 16, 15), ('dobj', 10, 16), ('punct', 19, 17), ('nummod', 19, 18), ('dep', 16, 19), ('punct', 19, 20), ('compound', 22, 21), ('dep', 19, 22), ('punct', 22, 23), ('nummod', 25, 24), ('appos', 22, 25), ('punct', 19, 26), ('punct', 10, 27), ('ROOT', 0, 10), ('nmod:poss', 3, 1), ('compound', 3, 2), ('nsubj', 10, 3), ('punct', 6, 4), ('nummod', 6, 5), ('appos', 3, 6), ('punct', 6, 7), ('cop', 10, 8), ('advmod', 10, 9), ('case', 15, 11), ('det', 15, 12), ('amod', 15, 13), ('compound', 15, 14), ('nmod', 10, 15), ('punct', 18, 16), ('compound', 18, 17), ('dep', 15, 18), ('punct', 18, 19), ('nummod', 21, 20), ('appos', 18, 21), ('punct', 18, 22), ('punct', 10, 23), ('ROOT', 0, 8), ('amod', 3, 1), ('compound', 3, 2), ('nsubj', 8, 3), ('case', 7, 4), ('det', 7, 5), ('compound', 7, 6), ('nmod', 3, 7), ('det', 11, 9), ('amod', 11, 10), ('dobj', 8, 11), ('case', 14, 12), ('compound', 14, 13), ('nmod', 11, 14), ('case', 16, 15), ('nmod', 11, 16), ('nummod', 16, 17), ('punct', 20, 18), ('compound', 20, 19), ('appos', 16, 20), ('amod', 22, 21), ('dep', 20, 22), ('punct', 20, 23), ('case', 25, 24), ('nmod', 16, 25), ('nummod', 25, 26), ('punct', 8, 27), ('advcl', 8, 28), ('case', 31, 29), ('det', 31, 30), ('nmod', 28, 31), ('case', 34, 32), ('amod', 34, 33), ('nmod', 31, 34), ('case', 36, 35), ('nmod', 31, 36), ('case', 38, 37), ('nmod', 31, 38), ('nummod', 38, 39), ('punct', 41, 40), ('appos', 38, 41), ('punct', 41, 42), ('punct', 8, 43), ('ROOT', 0, 14), ('case', 3, 1), ('det', 3, 2), ('nmod', 14, 3), ('case', 6, 4), ('nmod:poss', 6, 5), ('nmod', 3, 6), ('punct', 14, 7), ('det', 9, 8), ('nsubj', 14, 9), ('cop', 14, 10), ('det', 14, 11), ('amod', 14, 12), ('compound', 14, 13), ('punct', 14, 15), ('cc', 14, 16), ('nsubj', 23, 17), ('cop', 23, 18), ('det', 23, 19), ('amod', 23, 20), ('advmod', 22, 21), ('amod', 23, 22), ('conj', 14, 23), ('case', 27, 24), ('amod', 27, 25), ('compound', 27, 26), ('nmod', 23, 27), ('case', 29, 28), ('nmod', 27, 29), ('punct', 14, 30)]]\n"
     ]
    }
   ],
   "source": [
    "print(tmVarObject.GetDependencyParse(0,2))"
   ]
  },
  {
   "cell_type": "code",
   "execution_count": 9,
   "metadata": {},
   "outputs": [],
   "source": [
    "tmVarObject.stanfordNlp.close()"
   ]
  },
  {
   "cell_type": "code",
   "execution_count": 10,
   "metadata": {},
   "outputs": [],
   "source": [
    "phrasesObject = Preprocessing('all_dictionary_phrases.txt')"
   ]
  },
  {
   "cell_type": "code",
   "execution_count": 11,
   "metadata": {},
   "outputs": [
    {
     "name": "stdout",
     "output_type": "stream",
     "text": [
      "[['abscisic', 'acid', 'stress', 'ripening'], ['abscisic', 'aldehyde'], ['abscisic', 'aldehyde', 'oxidase'], ['abscission', 'layer'], ['abscission', 'zone'], ['abscission', 'zone', 'cells'], ['abscission', 'zones'], ['abscopal', 'effect'], ['abscopal', 'responses'], ['absence', 'epilepsies'], ['absence', 'epilepsy']]\n"
     ]
    }
   ],
   "source": [
    "print(phrasesObject.GetTokens(10559,10570))"
   ]
  },
  {
   "cell_type": "code",
   "execution_count": 12,
   "metadata": {},
   "outputs": [
    {
     "name": "stdout",
     "output_type": "stream",
     "text": [
      "[[('abscisic', 'JJ'), ('acid', 'NN'), ('stress', 'NN'), ('ripening', 'VBG')], [('abscisic', 'JJ'), ('aldehyde', 'NN')], [('abscisic', 'JJ'), ('aldehyde', 'NN'), ('oxidase', 'NN')], [('abscission', 'NN'), ('layer', 'NN')], [('abscission', 'NN'), ('zone', 'NN')], [('abscission', 'NN'), ('zone', 'NN'), ('cells', 'NNS')], [('abscission', 'NN'), ('zones', 'NNS')], [('abscopal', 'JJ'), ('effect', 'NN')], [('abscopal', 'JJ'), ('responses', 'NNS')], [('absence', 'NN'), ('epilepsies', 'NNS')], [('absence', 'NN'), ('epilepsy', 'NN')]]\n"
     ]
    }
   ],
   "source": [
    "print(phrasesObject.GetPosTags(10559,10570))"
   ]
  },
  {
   "cell_type": "code",
   "execution_count": 13,
   "metadata": {},
   "outputs": [
    {
     "name": "stdout",
     "output_type": "stream",
     "text": [
      "[[('abscisic', 'O'), ('acid', 'O'), ('stress', 'O'), ('ripening', 'O')], [('abscisic', 'O'), ('aldehyde', 'O')], [('abscisic', 'O'), ('aldehyde', 'O'), ('oxidase', 'O')], [('abscission', 'O'), ('layer', 'TITLE')], [('abscission', 'O'), ('zone', 'O')], [('abscission', 'O'), ('zone', 'O'), ('cells', 'O')], [('abscission', 'O'), ('zones', 'O')], [('abscopal', 'O'), ('effect', 'O')], [('abscopal', 'O'), ('responses', 'O')], [('absence', 'O'), ('epilepsies', 'O')], [('absence', 'O'), ('epilepsy', 'CAUSE_OF_DEATH')]]\n"
     ]
    }
   ],
   "source": [
    "print(phrasesObject.GetNER(10559,10570))"
   ]
  },
  {
   "cell_type": "code",
   "execution_count": 14,
   "metadata": {},
   "outputs": [
    {
     "name": "stdout",
     "output_type": "stream",
     "text": [
      "[[('ROOT', 0, 3), ('amod', 3, 1), ('compound', 3, 2), ('dep', 3, 4)], [('ROOT', 0, 2), ('amod', 2, 1)], [('ROOT', 0, 3), ('amod', 3, 1), ('compound', 3, 2)], [('ROOT', 0, 2), ('compound', 2, 1)], [('ROOT', 0, 2), ('compound', 2, 1)], [('ROOT', 0, 3), ('compound', 3, 1), ('compound', 3, 2)], [('ROOT', 0, 2), ('compound', 2, 1)], [('ROOT', 0, 2), ('amod', 2, 1)], [('ROOT', 0, 2), ('amod', 2, 1)], [('ROOT', 0, 2), ('compound', 2, 1)], [('ROOT', 0, 2), ('compound', 2, 1)]]\n"
     ]
    }
   ],
   "source": [
    "print(phrasesObject.GetDependencyParse(10559,10570))"
   ]
  },
  {
   "cell_type": "code",
   "execution_count": 15,
   "metadata": {},
   "outputs": [],
   "source": [
    "phrasesObject.stanfordNlp.close()"
   ]
  },
  {
   "cell_type": "code",
   "execution_count": null,
   "metadata": {},
   "outputs": [],
   "source": []
  }
 ],
 "metadata": {
  "kernelspec": {
   "display_name": "Python 3",
   "language": "python",
   "name": "python3"
  },
  "language_info": {
   "codemirror_mode": {
    "name": "ipython",
    "version": 3
   },
   "file_extension": ".py",
   "mimetype": "text/x-python",
   "name": "python",
   "nbconvert_exporter": "python",
   "pygments_lexer": "ipython3",
   "version": "3.7.0"
  }
 },
 "nbformat": 4,
 "nbformat_minor": 2
}
